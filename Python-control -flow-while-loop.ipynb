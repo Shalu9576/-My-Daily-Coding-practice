{
 "cells": [
  {
   "cell_type": "markdown",
   "id": "a911aee5",
   "metadata": {},
   "source": [
    "## Python while Loop\n",
    "\n",
    "The While loop in Python is used to iterate over a block of code as long as the test expression(condition) is true \n",
    "\n",
    "## Syntax:\n",
    "\n",
    "     while test_expression:\n",
    "     \n",
    "     \n",
    "           Body of while \n",
    "           \n",
    "The body of the loop is entered only if the test_expression evaluates \n",
    "True.\n",
    "\n",
    "After one iteration, the test expression is checked again.\n",
    "\n",
    "This process continues until the test expression evaluates to False\n",
    "\n",
    "## Example\n"
   ]
  },
  {
   "cell_type": "code",
   "execution_count": 7,
   "id": "cf53a52a",
   "metadata": {},
   "outputs": [
    {
     "name": "stdout",
     "output_type": "stream",
     "text": [
      " Product is:12000000\n"
     ]
    }
   ],
   "source": [
    "## Find  product of all numbers present in a list\n",
    "\n",
    "list = [10, 20, 30, 40, 50]\n",
    "\n",
    "product = 1\n",
    "index = 0\n",
    "\n",
    "while index < len(list):\n",
    "    product *= list[index]\n",
    "    index += 1\n",
    "\n",
    "print(\" Product is:{}\".format(product))"
   ]
  },
  {
   "cell_type": "markdown",
   "id": "1cb79399",
   "metadata": {},
   "source": [
    "## While Loop with else "
   ]
  },
  {
   "cell_type": "markdown",
   "id": "36f00585",
   "metadata": {},
   "source": [
    "same as that of for loop, we can have an optional else block with while loop as well.\n",
    "\n",
    "The else part is executed if the condition in the condition in the while loop evaluates to False. The while loop can be terminated with a break statement.\n",
    "\n",
    "In such case, the else part is ignored. Hence, a while loop's else part runs if no break occurs and the condition is false."
   ]
  },
  {
   "cell_type": "code",
   "execution_count": 3,
   "id": "3044066c",
   "metadata": {},
   "outputs": [
    {
     "name": "stdout",
     "output_type": "stream",
     "text": [
      "1\n",
      "2\n",
      "3\n",
      "4\n",
      "no item left in the list\n"
     ]
    }
   ],
   "source": [
    "lst = [1,2,3,4]\n",
    "\n",
    "index = 0\n",
    "\n",
    "while index < len(lst):\n",
    "    print(lst[index])\n",
    "    index +=1\n",
    "else:\n",
    "    print(\"no item left in the list\")\n",
    "    \n",
    "\n"
   ]
  },
  {
   "cell_type": "markdown",
   "id": "9b75c7b7",
   "metadata": {},
   "source": [
    "## Python  program to check given number is Prime number or not "
   ]
  },
  {
   "cell_type": "code",
   "execution_count": 17,
   "id": "ea6fed25",
   "metadata": {},
   "outputs": [
    {
     "name": "stdout",
     "output_type": "stream",
     "text": [
      "Enter the number: 12\n",
      "12 is divisible by 2\n",
      "12 is divisible by 3\n",
      "12 is divisible by 4\n",
      "12 is divisible by 6\n",
      "12 is not a prime number \n"
     ]
    }
   ],
   "source": [
    "num = int(input(\"Enter the number: \"))\n",
    "\n",
    "isDivisible = False;\n",
    "\n",
    "i= 2;\n",
    "\n",
    "while i < num:\n",
    "    if num % i == 0:\n",
    "         isDivisible = True;\n",
    "         print(\"{} is divisible by {}\".format(num,i))\n",
    "    i +=1;\n",
    "    \n",
    "if isDivisible:\n",
    "    print(\"{} is not a prime number \".format(num))\n",
    "else:\n",
    "    print(\"{} is a Prime number\".format(num))\n",
    "\n"
   ]
  },
  {
   "cell_type": "code",
   "execution_count": null,
   "id": "ae59a98b",
   "metadata": {},
   "outputs": [],
   "source": []
  },
  {
   "cell_type": "code",
   "execution_count": null,
   "id": "88bcd477",
   "metadata": {},
   "outputs": [],
   "source": []
  }
 ],
 "metadata": {
  "kernelspec": {
   "display_name": "Python 3 (ipykernel)",
   "language": "python",
   "name": "python3"
  },
  "language_info": {
   "codemirror_mode": {
    "name": "ipython",
    "version": 3
   },
   "file_extension": ".py",
   "mimetype": "text/x-python",
   "name": "python",
   "nbconvert_exporter": "python",
   "pygments_lexer": "ipython3",
   "version": "3.10.9"
  }
 },
 "nbformat": 4,
 "nbformat_minor": 5
}
