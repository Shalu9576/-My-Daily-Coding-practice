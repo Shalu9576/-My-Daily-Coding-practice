{
 "cells": [
  {
   "cell_type": "markdown",
   "id": "667378c4",
   "metadata": {},
   "source": [
    "## Python if .. else statement\n",
    "\n",
    "The if..elif..else statement is used in python for decision making\n",
    "\n",
    "#### if statement syntax\n",
    "\n",
    "if test expression:\n",
    "      \n",
    "      statement(s)\n",
    "      \n",
    "The program evaluates the test expression and will execute statement(s) only if the text expression is True\n",
    "\n",
    "if the text expression is false , the statement(s) is not executed.\n",
    "\n",
    "Python intreprets non-zero values as True. None and"
   ]
  },
  {
   "cell_type": "code",
   "execution_count": 4,
   "id": "4f61abb1",
   "metadata": {},
   "outputs": [
    {
     "name": "stdout",
     "output_type": "stream",
     "text": [
      "Number is  positive\n",
      "This will print always\n"
     ]
    }
   ],
   "source": [
    "num = 10\n",
    "# try 0,-1 and None \n",
    "if num==10 :\n",
    "    print(\"Number is  positive\")\n",
    "print(\"This will print always\")      # This print statement always print\n",
    "    "
   ]
  },
  {
   "cell_type": "markdown",
   "id": "201ddf9e",
   "metadata": {},
   "source": [
    "## if ..else statement \n",
    "\n",
    "\n",
    "## Example"
   ]
  },
  {
   "cell_type": "code",
   "execution_count": 6,
   "id": "d7c1d7e2",
   "metadata": {},
   "outputs": [
    {
     "name": "stdout",
     "output_type": "stream",
     "text": [
      "Positive number\n"
     ]
    }
   ],
   "source": [
    "num = 10\n",
    "\n",
    "if num > 0:\n",
    "    print(\"Positive number\")\n",
    "else:\n",
    "    print(\"Negative number \")"
   ]
  },
  {
   "cell_type": "markdown",
   "id": "1ce1b0d3",
   "metadata": {},
   "source": [
    "## if..elif..else statement"
   ]
  },
  {
   "cell_type": "code",
   "execution_count": 8,
   "id": "2b123915",
   "metadata": {},
   "outputs": [
    {
     "name": "stdout",
     "output_type": "stream",
     "text": [
      "Positive number\n"
     ]
    }
   ],
   "source": [
    "num = 10\n",
    "if num > 0 :\n",
    "    print(\"Positive number\")\n",
    "elif num ==0:\n",
    "    print(\"Zero\")\n",
    "else:\n",
    "    print(\"Negative Number\")"
   ]
  },
  {
   "cell_type": "markdown",
   "id": "0225a6b7",
   "metadata": {},
   "source": [
    "## Nested if statements\n",
    "\n",
    "We can have a if..elif..else statement inside another if..elif..else statement. This is called nesting in computer programming.\n",
    "\n",
    "## Example:\n",
    "\n"
   ]
  },
  {
   "cell_type": "code",
   "execution_count": 9,
   "id": "e5ebc49d",
   "metadata": {},
   "outputs": [
    {
     "name": "stdout",
     "output_type": "stream",
     "text": [
      "Positive number\n"
     ]
    }
   ],
   "source": [
    "num = 10\n",
    "\n",
    "if num > 0:\n",
    "    if num == 0:\n",
    "        print(\"Zero\")\n",
    "    else:\n",
    "        print(\"Positive number\")\n",
    "else:\n",
    "    print(\"Negative number\")\n",
    "    "
   ]
  },
  {
   "cell_type": "markdown",
   "id": "8d0792d3",
   "metadata": {},
   "source": [
    "## Python program to find the largest element among three Number "
   ]
  },
  {
   "cell_type": "code",
   "execution_count": 12,
   "id": "8ffbd7de",
   "metadata": {},
   "outputs": [
    {
     "name": "stdout",
     "output_type": "stream",
     "text": [
      " largest number among three number is :100 \n"
     ]
    }
   ],
   "source": [
    "num1 = 20\n",
    "num2 = 50\n",
    "num3 = 100\n",
    "\n",
    "if(num1>num2) and (num1>num3):\n",
    "    largest = num1\n",
    "elif(num2> num1) and (num2> num3):\n",
    "    largest = num2\n",
    "else:\n",
    "    largest = num3\n",
    "print(\" largest number among three number is :{} \".format(largest))"
   ]
  },
  {
   "cell_type": "code",
   "execution_count": null,
   "id": "14694679",
   "metadata": {},
   "outputs": [],
   "source": []
  }
 ],
 "metadata": {
  "kernelspec": {
   "display_name": "Python 3 (ipykernel)",
   "language": "python",
   "name": "python3"
  },
  "language_info": {
   "codemirror_mode": {
    "name": "ipython",
    "version": 3
   },
   "file_extension": ".py",
   "mimetype": "text/x-python",
   "name": "python",
   "nbconvert_exporter": "python",
   "pygments_lexer": "ipython3",
   "version": "3.10.9"
  }
 },
 "nbformat": 4,
 "nbformat_minor": 5
}
