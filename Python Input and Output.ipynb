{
 "cells": [
  {
   "cell_type": "markdown",
   "id": "b4a9179e",
   "metadata": {},
   "source": [
    "## Python Input and Output\n",
    "\n",
    "### Python Output\n",
    "\n",
    "We use the print() function to output data to the standard output device"
   ]
  },
  {
   "cell_type": "code",
   "execution_count": 1,
   "id": "8d2cd1ef",
   "metadata": {},
   "outputs": [
    {
     "name": "stdout",
     "output_type": "stream",
     "text": [
      "Hello World\n"
     ]
    }
   ],
   "source": [
    "print(\"Hello World\")"
   ]
  },
  {
   "cell_type": "code",
   "execution_count": 4,
   "id": "4a6c554c",
   "metadata": {},
   "outputs": [
    {
     "name": "stdout",
     "output_type": "stream",
     "text": [
      "The value of a is 10\n",
      "The value of a is 10\n"
     ]
    }
   ],
   "source": [
    "a = 10\n",
    "print(\"The value of a is\",a) #python2\n",
    "print(\"The value of a is \" + str(a))\n",
    "#print a    # works only for version below python 3"
   ]
  },
  {
   "cell_type": "markdown",
   "id": "6435ed93",
   "metadata": {},
   "source": [
    "## Output Formatting"
   ]
  },
  {
   "cell_type": "code",
   "execution_count": 5,
   "id": "b1f7a016",
   "metadata": {},
   "outputs": [
    {
     "name": "stdout",
     "output_type": "stream",
     "text": [
      "The value of a is 10 and b is 20\n"
     ]
    }
   ],
   "source": [
    "a = 10; b = 20 # multiple statement in single line\n",
    "print(\"The value of a is {} and b is {}\".format(a,b)) # default"
   ]
  },
  {
   "cell_type": "code",
   "execution_count": 6,
   "id": "ee1051ef",
   "metadata": {},
   "outputs": [
    {
     "name": "stdout",
     "output_type": "stream",
     "text": [
      "The value of b is 20 and the value of a is 10\n"
     ]
    }
   ],
   "source": [
    "print(\"The value of b is {1} and the value of a is {0}\".format(a,b)) #specifyinh"
   ]
  },
  {
   "cell_type": "code",
   "execution_count": 9,
   "id": "f9e89625",
   "metadata": {},
   "outputs": [
    {
     "name": "stdout",
     "output_type": "stream",
     "text": [
      "Hello shalu,Good morning\n"
     ]
    }
   ],
   "source": [
    "print(\"Hello {name},{greeting}\".format(name=\"shalu\",greeting = \"Good morning\"))"
   ]
  },
  {
   "cell_type": "code",
   "execution_count": 11,
   "id": "98b2e0bf",
   "metadata": {},
   "outputs": [
    {
     "name": "stdout",
     "output_type": "stream",
     "text": [
      "The story of Bill,Manfred and Georg\n"
     ]
    }
   ],
   "source": [
    "#we can combine positional arguments with keyword arguments\n",
    "print(\"The story of {0},{1} and {other}\".format('Bill','Manfred',other= 'Georg'))"
   ]
  },
  {
   "cell_type": "markdown",
   "id": "29102b66",
   "metadata": {},
   "source": [
    "## Python Input\n",
    "\n",
    "want to take the input from the user . In Python, we have the input() function to allow this."
   ]
  },
  {
   "cell_type": "code",
   "execution_count": 12,
   "id": "a88d7791",
   "metadata": {},
   "outputs": [
    {
     "name": "stdout",
     "output_type": "stream",
     "text": [
      "Enter a number: 23\n",
      "23\n"
     ]
    }
   ],
   "source": [
    "num = input(\"Enter a number: \")\n",
    "print(num)"
   ]
  },
  {
   "cell_type": "code",
   "execution_count": null,
   "id": "0a4d414e",
   "metadata": {},
   "outputs": [],
   "source": []
  }
 ],
 "metadata": {
  "kernelspec": {
   "display_name": "Python 3 (ipykernel)",
   "language": "python",
   "name": "python3"
  },
  "language_info": {
   "codemirror_mode": {
    "name": "ipython",
    "version": 3
   },
   "file_extension": ".py",
   "mimetype": "text/x-python",
   "name": "python",
   "nbconvert_exporter": "python",
   "pygments_lexer": "ipython3",
   "version": "3.10.9"
  }
 },
 "nbformat": 4,
 "nbformat_minor": 5
}
