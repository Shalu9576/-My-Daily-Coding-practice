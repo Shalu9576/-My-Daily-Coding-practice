{
 "cells": [
  {
   "cell_type": "markdown",
   "id": "04f1ed27",
   "metadata": {},
   "source": [
    "## Python for Loop\n",
    "\n",
    "The for loop in Python is used to iterate over a sequence(list, tuple, string) or other iterable objects. Iterating over a sequence is called traversal.\n",
    "\n",
    "## Syntax \n",
    "\n",
    "for element in sequence :\n",
    "\n",
    "    Body of for\n",
    "    \n",
    "Here , element is the variable that takes the value of the items inside the sequence on each iteration. Loop continues until we reach the last item in the sequence ."
   ]
  },
  {
   "cell_type": "code",
   "execution_count": 1,
   "id": "8f578f77",
   "metadata": {},
   "outputs": [
    {
     "name": "stdout",
     "output_type": "stream",
     "text": [
      "Product is : 21600000\n"
     ]
    }
   ],
   "source": [
    "## find product of all number present in a list\n",
    "\n",
    "list = [10, 20, 30, 40, 90]\n",
    "\n",
    "product = 1\n",
    "#iterating over the list\n",
    "for element in list:\n",
    "    product *= element\n",
    "    \n",
    "print(\"Product is : {}\".format(product))"
   ]
  },
  {
   "cell_type": "markdown",
   "id": "4757cae4",
   "metadata": {},
   "source": [
    "## range() function \n",
    "\n",
    "We can generate a sequence of numbers using range() function. range(10) will generate numbers from 0 to 9(10 numbers).\n",
    "\n",
    "We can also define the start, stop and step size as range(start, stop, step size). step size defaults to 1 if not provided.\n",
    "\n",
    "This function does not store all the values in memory, it would be inefficient.  So it remembers the start, stop,step size and generates the next number on the go."
   ]
  },
  {
   "cell_type": "code",
   "execution_count": 2,
   "id": "4cda28eb",
   "metadata": {},
   "outputs": [
    {
     "name": "stdout",
     "output_type": "stream",
     "text": [
      "0\n",
      "1\n",
      "2\n",
      "3\n",
      "4\n",
      "5\n",
      "6\n",
      "7\n",
      "8\n",
      "9\n"
     ]
    }
   ],
   "source": [
    "## print range of 10\n",
    "for i in range(10):\n",
    "    print(i)"
   ]
  },
  {
   "cell_type": "code",
   "execution_count": 3,
   "id": "97e3ba4c",
   "metadata": {},
   "outputs": [
    {
     "name": "stdout",
     "output_type": "stream",
     "text": [
      "1\n",
      "4\n",
      "7\n",
      "10\n",
      "13\n"
     ]
    }
   ],
   "source": [
    "#print range of numbers from 1 t 15 with step size of 3\n",
    "\n",
    "for i in range(1,15,3):\n",
    "    print(i)"
   ]
  },
  {
   "cell_type": "code",
   "execution_count": 10,
   "id": "5f5724fd",
   "metadata": {},
   "outputs": [
    {
     "name": "stdout",
     "output_type": "stream",
     "text": [
      "mummy\n",
      "sonar\n",
      "tingi\n",
      "muskan\n",
      "shivam\n",
      "akshay\n"
     ]
    }
   ],
   "source": [
    "list = [\"mummy\", \"sonar\", \"tingi\", \"muskan\" ,\"shivam\",\"akshay\"]\n",
    "\n",
    "#for i in range(len(list)):\n",
    "#  print(list[i])\n",
    "for ele in(list):\n",
    "    print(ele)"
   ]
  },
  {
   "cell_type": "markdown",
   "id": "f4d0dac8",
   "metadata": {},
   "source": [
    "## For loop with else"
   ]
  },
  {
   "cell_type": "markdown",
   "id": "18313034",
   "metadata": {},
   "source": [
    "A for loop can have an optional block as well. The else part is executed if the items in the sequence used is for loop exhausts.\n",
    "\n",
    "Break statement can be used to stop a for loop. In such cases , the else part is ignored.\n",
    "\n",
    "Hence, a for loop's else part runs if no break occurs"
   ]
  },
  {
   "cell_type": "code",
   "execution_count": 12,
   "id": "a755af0f",
   "metadata": {},
   "outputs": [
    {
     "name": "stdout",
     "output_type": "stream",
     "text": [
      "1\n",
      "3\n",
      "5\n",
      "8\n",
      "no item left in the list\n"
     ]
    }
   ],
   "source": [
    "number = [1,3,5,8]\n",
    "\n",
    "for ele in number:\n",
    "    print(ele)\n",
    "else:\n",
    "    print(\"no item left in the list\")"
   ]
  },
  {
   "cell_type": "markdown",
   "id": "49e7303c",
   "metadata": {},
   "source": [
    "## Python Program to display all prime numbes within an interval"
   ]
  },
  {
   "cell_type": "code",
   "execution_count": 17,
   "id": "78513b7a",
   "metadata": {},
   "outputs": [
    {
     "name": "stdout",
     "output_type": "stream",
     "text": [
      "Prime number between 10 and 50 are :\n",
      "11\n",
      "13\n",
      "17\n",
      "19\n",
      "23\n",
      "29\n",
      "31\n",
      "37\n",
      "41\n",
      "43\n",
      "47\n"
     ]
    }
   ],
   "source": [
    "index1 = 10\n",
    "index2 = 50\n",
    "\n",
    "print(\"Prime number between {0} and {1} are :\".format(index1,index2))\n",
    "\n",
    "\n",
    "for num in range(index1, index2):\n",
    "    if num>1:\n",
    "        isDivisible = False;\n",
    "        for index in range(2, num):\n",
    "            if num % index==0:\n",
    "                isDivisible= True;\n",
    "    if not isDivisible:\n",
    "        print(num);"
   ]
  },
  {
   "cell_type": "code",
   "execution_count": null,
   "id": "58fb0cc9",
   "metadata": {},
   "outputs": [],
   "source": []
  }
 ],
 "metadata": {
  "kernelspec": {
   "display_name": "Python 3 (ipykernel)",
   "language": "python",
   "name": "python3"
  },
  "language_info": {
   "codemirror_mode": {
    "name": "ipython",
    "version": 3
   },
   "file_extension": ".py",
   "mimetype": "text/x-python",
   "name": "python",
   "nbconvert_exporter": "python",
   "pygments_lexer": "ipython3",
   "version": "3.10.9"
  }
 },
 "nbformat": 4,
 "nbformat_minor": 5
}
