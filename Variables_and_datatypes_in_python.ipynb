{
 "cells": [
  {
   "cell_type": "markdown",
   "id": "322742b0",
   "metadata": {},
   "source": [
    "## Variables\n",
    "\n",
    "A variable is a location in memory used to store some data(value).\n",
    "\n",
    "They are given unique names to differentiate between different memory locations. The rules for writing a variable name is same as the rule for writing identifiers in python.\n",
    "\n",
    "We don't need to declare a variable before using it. In Python, we simply assign a value to a variable and it will exist. We don't even have to declare the type of the variable. This is handled internally accroding to the type of value we assign to the variable. "
   ]
  },
  {
   "cell_type": "markdown",
   "id": "0f739e6e",
   "metadata": {},
   "source": [
    "## Variable Assignments"
   ]
  },
  {
   "cell_type": "code",
   "execution_count": 1,
   "id": "5c226d9c",
   "metadata": {},
   "outputs": [],
   "source": [
    "##we use the assignment operator(=) to assign values to a variable\n",
    "\n",
    "a = 10\n",
    "b = 5.5\n",
    "c = 'ML'"
   ]
  },
  {
   "cell_type": "markdown",
   "id": "5cc567e7",
   "metadata": {},
   "source": [
    "## Multiple Assignments"
   ]
  },
  {
   "cell_type": "code",
   "execution_count": 2,
   "id": "71867301",
   "metadata": {},
   "outputs": [],
   "source": [
    "a,b,c= 10,5.5,\"ML\""
   ]
  },
  {
   "cell_type": "code",
   "execution_count": 3,
   "id": "66d969b1",
   "metadata": {},
   "outputs": [],
   "source": [
    "a = b = c = 'AI' #assign the same value to multiple variable at once"
   ]
  },
  {
   "cell_type": "markdown",
   "id": "fe2e6c2d",
   "metadata": {},
   "source": [
    "## Storage Location"
   ]
  },
  {
   "cell_type": "code",
   "execution_count": 4,
   "id": "62e5f96b",
   "metadata": {},
   "outputs": [
    {
     "name": "stdout",
     "output_type": "stream",
     "text": [
      "1582472233264\n"
     ]
    }
   ],
   "source": [
    "x = 3\n",
    "\n",
    "print(id(x))   # print address of variable x"
   ]
  },
  {
   "cell_type": "code",
   "execution_count": 5,
   "id": "10ed368c",
   "metadata": {},
   "outputs": [
    {
     "name": "stdout",
     "output_type": "stream",
     "text": [
      "1582472233264\n"
     ]
    }
   ],
   "source": [
    "y = 3\n",
    "\n",
    "print(id(y))    #print address of variable y"
   ]
  },
  {
   "cell_type": "markdown",
   "id": "930388c3",
   "metadata": {},
   "source": [
    "observation :\n",
    "x and y points to same memory location"
   ]
  },
  {
   "cell_type": "code",
   "execution_count": 7,
   "id": "67db7518",
   "metadata": {},
   "outputs": [
    {
     "name": "stdout",
     "output_type": "stream",
     "text": [
      "1582472233232\n"
     ]
    }
   ],
   "source": [
    "y = 2\n",
    "\n",
    "print(id(y))   #print address of variable y"
   ]
  },
  {
   "cell_type": "markdown",
   "id": "7d26cb9a",
   "metadata": {},
   "source": [
    "## Data Types"
   ]
  },
  {
   "cell_type": "markdown",
   "id": "4a734b80",
   "metadata": {},
   "source": [
    "Every Value in Python has a datatype. Since Everything is an object in Python programming , data types are actually classes and variables are instances(objects) of these classes.\n"
   ]
  },
  {
   "cell_type": "markdown",
   "id": "f448b96d",
   "metadata": {},
   "source": [
    "## Numbers \n",
    "Integers, floating points numbers and complex numbers falls under Python numbers category . They are defined as int, float and complex class in Python .\n",
    "\n",
    "We can use types() function to know which class a variable or a value belongs to and isinstances to check if an object belong to a particular class.\n"
   ]
  },
  {
   "cell_type": "code",
   "execution_count": 8,
   "id": "f8448a04",
   "metadata": {},
   "outputs": [
    {
     "name": "stdout",
     "output_type": "stream",
     "text": [
      "<class 'int'>\n"
     ]
    }
   ],
   "source": [
    "a= 12                         #datatype is implicitly set to integer\n",
    "print(type(a))          "
   ]
  },
  {
   "cell_type": "code",
   "execution_count": 11,
   "id": "5bef774b",
   "metadata": {},
   "outputs": [
    {
     "name": "stdout",
     "output_type": "stream",
     "text": [
      "<class 'float'>\n"
     ]
    }
   ],
   "source": [
    "a = 12.5                      #datatype is changed to float\n",
    "print(type(a))"
   ]
  },
  {
   "cell_type": "code",
   "execution_count": 13,
   "id": "2fd1e530",
   "metadata": {},
   "outputs": [
    {
     "name": "stdout",
     "output_type": "stream",
     "text": [
      "<class 'complex'>\n",
      "True\n"
     ]
    }
   ],
   "source": [
    "a = 1 + 2j                             #datatype is changed to complex number\n",
    "print(type(a))\n",
    "print(isinstance(1 +2j, complex))"
   ]
  },
  {
   "cell_type": "markdown",
   "id": "7d1b3032",
   "metadata": {},
   "source": [
    "## Boolean \n",
    "\n",
    " Boolean represents the truth values false and True"
   ]
  },
  {
   "cell_type": "code",
   "execution_count": 14,
   "id": "32b160ab",
   "metadata": {},
   "outputs": [
    {
     "name": "stdout",
     "output_type": "stream",
     "text": [
      "<class 'bool'>\n"
     ]
    }
   ],
   "source": [
    "a = True                                #datatype is changed to boolean\n",
    "print (type(a))"
   ]
  },
  {
   "cell_type": "markdown",
   "id": "c70cf701",
   "metadata": {},
   "source": [
    "## Python Strings"
   ]
  },
  {
   "cell_type": "markdown",
   "id": "c515f736",
   "metadata": {},
   "source": [
    "String is sequence of unicode characters.\n",
    "\n",
    "We can use single quotes or double quotes to represent strings\n",
    "\n",
    "Multi-line strings can be denoted using triple quotes ''',or \"\"\"\n",
    "\n",
    "A string in Python consists of a series or sequence of characters -letters, numbers , and specials characters "
   ]
  },
  {
   "cell_type": "code",
   "execution_count": 1,
   "id": "60acda7b",
   "metadata": {},
   "outputs": [
    {
     "name": "stdout",
     "output_type": "stream",
     "text": [
      "<class 'str'>\n"
     ]
    }
   ],
   "source": [
    "s = \"I am learning AI and Machine learning\"\n",
    "print(type(s))"
   ]
  },
  {
   "cell_type": "code",
   "execution_count": 2,
   "id": "49b0ae55",
   "metadata": {},
   "outputs": [
    {
     "name": "stdout",
     "output_type": "stream",
     "text": [
      "g\n"
     ]
    }
   ],
   "source": [
    "print(s[-1])            #last character of strin s[len(s)-1 or s[-1]]"
   ]
  },
  {
   "cell_type": "code",
   "execution_count": 3,
   "id": "644e5d1a",
   "metadata": {},
   "outputs": [
    {
     "data": {
      "text/plain": [
       "'learn'"
      ]
     },
     "execution_count": 3,
     "metadata": {},
     "output_type": "execute_result"
    }
   ],
   "source": [
    "#slicing\n",
    "s[5:10]                            #while slicing it will not include the last index which you give ,it will print till lastindex[-1]"
   ]
  },
  {
   "cell_type": "markdown",
   "id": "bcd04787",
   "metadata": {},
   "source": [
    "## Python List\n",
    "\n",
    "List is an ordered sequence of items. It is one of the most used datatypes in Python and is very flexiable. All the items in a list do not need to be the same type.\n",
    "\n",
    "Declarig a list is, items separated by commas are enclosed within brackets  [ ]."
   ]
  },
  {
   "cell_type": "code",
   "execution_count": 15,
   "id": "a04a9b8e",
   "metadata": {},
   "outputs": [
    {
     "name": "stdout",
     "output_type": "stream",
     "text": [
      "hello\n"
     ]
    }
   ],
   "source": [
    "l1 = [10, 23.8,\"hello\"]\n",
    "print(l1[2])"
   ]
  },
  {
   "cell_type": "markdown",
   "id": "3e23704c",
   "metadata": {},
   "source": [
    "List are mutable,meaning value of elements of a lsir can be altered"
   ]
  },
  {
   "cell_type": "code",
   "execution_count": 17,
   "id": "248fe65f",
   "metadata": {},
   "outputs": [
    {
     "name": "stdout",
     "output_type": "stream",
     "text": [
      "[12, 23.8, 'hello']\n",
      "[12, 23.8, 'hello']\n",
      "<class 'list'>\n"
     ]
    }
   ],
   "source": [
    "print(l1)\n",
    "l1[0] = 12\n",
    "print(l1)\n",
    "print(type(l1))"
   ]
  },
  {
   "cell_type": "markdown",
   "id": "0ac91844",
   "metadata": {},
   "source": [
    "## Python Tuple\n",
    "Tuple is an ordered sequence of items same as list. The only difference is that tuple are immutable. Tuples once created be modified."
   ]
  },
  {
   "cell_type": "code",
   "execution_count": 13,
   "id": "0e9d60b1",
   "metadata": {},
   "outputs": [
    {
     "name": "stdout",
     "output_type": "stream",
     "text": [
      "(12, 4.5, 'Hello')\n",
      "<class 'tuple'>\n"
     ]
    }
   ],
   "source": [
    "t1 = (12, 4.5 , \"Hello\")\n",
    "print(tuple)\n",
    "print(type(t1))"
   ]
  },
  {
   "cell_type": "code",
   "execution_count": 18,
   "id": "bab2e69d",
   "metadata": {},
   "outputs": [
    {
     "ename": "TypeError",
     "evalue": "'tuple' object does not support item assignment",
     "output_type": "error",
     "traceback": [
      "\u001b[1;31m---------------------------------------------------------------------------\u001b[0m",
      "\u001b[1;31mTypeError\u001b[0m                                 Traceback (most recent call last)",
      "Cell \u001b[1;32mIn[18], line 1\u001b[0m\n\u001b[1;32m----> 1\u001b[0m t1[\u001b[38;5;241m0\u001b[39m] \u001b[38;5;241m=\u001b[39m \u001b[38;5;241m11\u001b[39m\n",
      "\u001b[1;31mTypeError\u001b[0m: 'tuple' object does not support item assignment"
     ]
    }
   ],
   "source": [
    "t1[0] = 11\n"
   ]
  },
  {
   "cell_type": "markdown",
   "id": "fcaae802",
   "metadata": {},
   "source": [
    "## Python Set"
   ]
  },
  {
   "cell_type": "markdown",
   "id": "3d923ad9",
   "metadata": {},
   "source": [
    "Set is an unordered collection of unique items.Set is defined by values separated by comma inside braces{} .Items in a set are not ordered."
   ]
  },
  {
   "cell_type": "code",
   "execution_count": 5,
   "id": "df477930",
   "metadata": {},
   "outputs": [
    {
     "name": "stdout",
     "output_type": "stream",
     "text": [
      "{1, 20, 30, 9}\n"
     ]
    }
   ],
   "source": [
    "s = {1,20, 30, 9}\n",
    "print(s)"
   ]
  },
  {
   "cell_type": "markdown",
   "id": "f88dd32f",
   "metadata": {},
   "source": [
    "we can perform set operations like union, intersection on two sets. Set have unique values."
   ]
  },
  {
   "cell_type": "code",
   "execution_count": 4,
   "id": "e9a85cb2",
   "metadata": {},
   "outputs": [
    {
     "name": "stdout",
     "output_type": "stream",
     "text": [
      "<class 'set'>\n"
     ]
    }
   ],
   "source": [
    "print(type(S))"
   ]
  },
  {
   "cell_type": "code",
   "execution_count": 6,
   "id": "66b6f1c5",
   "metadata": {},
   "outputs": [
    {
     "name": "stdout",
     "output_type": "stream",
     "text": [
      "{40, 10, 20, 70}\n"
     ]
    }
   ],
   "source": [
    "s = {10,20,20,20, 40,40,70} #automatically set won't consider duplicate \n",
    "print(s)"
   ]
  },
  {
   "cell_type": "code",
   "execution_count": 9,
   "id": "0a1ccbea",
   "metadata": {},
   "outputs": [
    {
     "ename": "TypeError",
     "evalue": "'set' object is not subscriptable",
     "output_type": "error",
     "traceback": [
      "\u001b[1;31m---------------------------------------------------------------------------\u001b[0m",
      "\u001b[1;31mTypeError\u001b[0m                                 Traceback (most recent call last)",
      "Cell \u001b[1;32mIn[9], line 1\u001b[0m\n\u001b[1;32m----> 1\u001b[0m \u001b[38;5;28mprint\u001b[39m(\u001b[43ms\u001b[49m\u001b[43m[\u001b[49m\u001b[38;5;241;43m1\u001b[39;49m\u001b[43m]\u001b[49m)\n",
      "\u001b[1;31mTypeError\u001b[0m: 'set' object is not subscriptable"
     ]
    }
   ],
   "source": [
    "print(s[1]) #we cannot print particular element in set because \n",
    "                #its unordered collections of items"
   ]
  },
  {
   "cell_type": "markdown",
   "id": "21875f16",
   "metadata": {},
   "source": [
    " ## Python Dictionary\n",
    " \n",
    " Dictionary is an unordered collection of key-value pairs.\n",
    " \n",
    "In python, Dictonaries are defined withing braces{} with each items being a pair in the form key:value.\n",
    "Key and value can be of any type.\n"
   ]
  },
  {
   "cell_type": "code",
   "execution_count": 10,
   "id": "476b98b7",
   "metadata": {},
   "outputs": [
    {
     "name": "stdout",
     "output_type": "stream",
     "text": [
      "{1: 'Apple', 2: 'Ball'}\n"
     ]
    }
   ],
   "source": [
    "d ={ 1: \"Apple\", 2: \"Ball\"}\n",
    "print(d)"
   ]
  },
  {
   "cell_type": "code",
   "execution_count": 12,
   "id": "b8212bfe",
   "metadata": {},
   "outputs": [
    {
     "name": "stdout",
     "output_type": "stream",
     "text": [
      "Ball\n"
     ]
    }
   ],
   "source": [
    "print(d[2])"
   ]
  },
  {
   "cell_type": "code",
   "execution_count": 13,
   "id": "6c1e60e2",
   "metadata": {},
   "outputs": [
    {
     "name": "stdout",
     "output_type": "stream",
     "text": [
      "<class 'dict'>\n"
     ]
    }
   ],
   "source": [
    "print(type(d))"
   ]
  },
  {
   "cell_type": "markdown",
   "id": "6757db6e",
   "metadata": {},
   "source": [
    "## Conversion between Datatypes"
   ]
  },
  {
   "cell_type": "markdown",
   "id": "9bfbf2a4",
   "metadata": {},
   "source": [
    "We can convert between different data types by using conversion function like int(), float(),str etc."
   ]
  },
  {
   "cell_type": "code",
   "execution_count": 15,
   "id": "13a09aee",
   "metadata": {},
   "outputs": [
    {
     "data": {
      "text/plain": [
       "10.0"
      ]
     },
     "execution_count": 15,
     "metadata": {},
     "output_type": "execute_result"
    }
   ],
   "source": [
    "float(10)    #converting interger into float() method"
   ]
  },
  {
   "cell_type": "code",
   "execution_count": 17,
   "id": "1173d0aa",
   "metadata": {},
   "outputs": [
    {
     "data": {
      "text/plain": [
       "'10'"
      ]
     },
     "execution_count": 17,
     "metadata": {},
     "output_type": "execute_result"
    }
   ],
   "source": [
    "str(10)    #converting integer into string"
   ]
  },
  {
   "cell_type": "code",
   "execution_count": 22,
   "id": "52409b03",
   "metadata": {},
   "outputs": [
    {
     "data": {
      "text/plain": [
       "10"
      ]
     },
     "execution_count": 22,
     "metadata": {},
     "output_type": "execute_result"
    }
   ],
   "source": [
    "int(10.0) # converting float into string "
   ]
  },
  {
   "cell_type": "markdown",
   "id": "e0741d30",
   "metadata": {},
   "source": [
    "Conversion to and from string must contain compatible values"
   ]
  },
  {
   "cell_type": "code",
   "execution_count": 24,
   "id": "3da8d17f",
   "metadata": {},
   "outputs": [
    {
     "ename": "ValueError",
     "evalue": "invalid literal for int() with base 10: '10p'",
     "output_type": "error",
     "traceback": [
      "\u001b[1;31m---------------------------------------------------------------------------\u001b[0m",
      "\u001b[1;31mValueError\u001b[0m                                Traceback (most recent call last)",
      "Cell \u001b[1;32mIn[24], line 1\u001b[0m\n\u001b[1;32m----> 1\u001b[0m \u001b[38;5;28;43mint\u001b[39;49m\u001b[43m(\u001b[49m\u001b[38;5;124;43m\"\u001b[39;49m\u001b[38;5;124;43m10p\u001b[39;49m\u001b[38;5;124;43m\"\u001b[39;49m\u001b[43m)\u001b[49m\n",
      "\u001b[1;31mValueError\u001b[0m: invalid literal for int() with base 10: '10p'"
     ]
    }
   ],
   "source": [
    "int(\"10p\")"
   ]
  },
  {
   "cell_type": "code",
   "execution_count": 29,
   "id": "72a04dce",
   "metadata": {},
   "outputs": [
    {
     "name": "stdout",
     "output_type": "stream",
     "text": [
      "Congartulations ,Shalu!You just wrote 100 lines of code\n"
     ]
    }
   ],
   "source": [
    "user = \"Shalu\"\n",
    "lines = 100\n",
    "\n",
    "print(\"Congartulations ,\" + user + \"!You just wrote \" + str(lines) + \" lines of code\")"
   ]
  },
  {
   "cell_type": "markdown",
   "id": "b8a05ede",
   "metadata": {},
   "source": [
    "we can Convert one sequence to other"
   ]
  },
  {
   "cell_type": "code",
   "execution_count": 32,
   "id": "e90172dd",
   "metadata": {},
   "outputs": [
    {
     "name": "stdout",
     "output_type": "stream",
     "text": [
      "<class 'list'>\n",
      "{1, 2, 5, 6}\n",
      "<class 'set'>\n"
     ]
    }
   ],
   "source": [
    "a = [1,2, 5,6,6]\n",
    "print(type(a))\n",
    "s = set(a)\n",
    "print(s)\n",
    "print(type(s))"
   ]
  },
  {
   "cell_type": "code",
   "execution_count": 33,
   "id": "b9cef5d7",
   "metadata": {},
   "outputs": [
    {
     "data": {
      "text/plain": [
       "['h', 'e', 'l', 'l', 'o']"
      ]
     },
     "execution_count": 33,
     "metadata": {},
     "output_type": "execute_result"
    }
   ],
   "source": [
    "list(\"hello\")\n"
   ]
  },
  {
   "cell_type": "code",
   "execution_count": null,
   "id": "88895d8f",
   "metadata": {},
   "outputs": [],
   "source": []
  }
 ],
 "metadata": {
  "kernelspec": {
   "display_name": "Python 3 (ipykernel)",
   "language": "python",
   "name": "python3"
  },
  "language_info": {
   "codemirror_mode": {
    "name": "ipython",
    "version": 3
   },
   "file_extension": ".py",
   "mimetype": "text/x-python",
   "name": "python",
   "nbconvert_exporter": "python",
   "pygments_lexer": "ipython3",
   "version": "3.10.9"
  }
 },
 "nbformat": 4,
 "nbformat_minor": 5
}
