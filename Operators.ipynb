{
 "cells": [
  {
   "cell_type": "markdown",
   "id": "dbcdb0af",
   "metadata": {},
   "source": [
    "## Operators\n",
    "\n",
    "Operators are special symbols in Python that carry out arithmetic or logical computation . The value that the operator operates on is called the operant.\n",
    "\n",
    "## Operator types\n",
    "\n",
    "1. Arithmetic operators\n",
    "2. Comparison(Relational) operators\n",
    "3. Logical(Boolean) operators\n",
    "4. Bitwise operators\n",
    "5. Assignment operators\n",
    "6. Special operators"
   ]
  },
  {
   "cell_type": "code",
   "execution_count": 14,
   "id": "390c8a4a",
   "metadata": {},
   "outputs": [
    {
     "name": "stdout",
     "output_type": "stream",
     "text": [
      "30\n",
      "-10\n",
      "200\n",
      "0.5\n",
      "0\n",
      "7\n",
      "8\n"
     ]
    }
   ],
   "source": [
    "x,y = 10, 20\n",
    "\n",
    "#addition \n",
    "print(x+y)\n",
    "\n",
    "#subtraction\n",
    "print(x-y)\n",
    "\n",
    "#multiplication\n",
    "print(x*y)\n",
    "\n",
    "#divison\n",
    "print(x/y)\n",
    "\n",
    "#modulo division (%)    #it give reminder of division \n",
    "print(y%x)\n",
    "\n",
    "#Floor Division(//)\n",
    "print(15//2)\n",
    "\n",
    "#Exponent(**)    #this operator calculate power value here 2 to the power 3 is 8\n",
    "print(2**3)\n"
   ]
  },
  {
   "cell_type": "markdown",
   "id": "22fbcc0d",
   "metadata": {},
   "source": [
    "## Comparision Operators\n",
    "\n",
    "Comparison operators are used to compare values. If either returns True or False according to the condition.\n",
    " \n",
    "\n",
    "    >, <, ==,!=,>=,<= are comparison operators"
   ]
  },
  {
   "cell_type": "code",
   "execution_count": 21,
   "id": "ea33f239",
   "metadata": {},
   "outputs": [
    {
     "name": "stdout",
     "output_type": "stream",
     "text": [
      "True\n",
      "False\n",
      "False\n",
      "True\n",
      "False\n",
      "True\n"
     ]
    }
   ],
   "source": [
    "a,b = 10, 20\n",
    "\n",
    "print( a < b) #check a is less than b\n",
    "\n",
    "print( a > b) #check a is less than b\n",
    "\n",
    "print(a == b)  #check a is equal to b\n",
    "\n",
    "print(a <= b) #check a is less or equal to b\n",
    "\n",
    "print( a >= b ) # check a is greater or equal to b\n",
    "\n",
    "print( a != b ) # check a is not equal to b"
   ]
  },
  {
   "cell_type": "markdown",
   "id": "faba30ea",
   "metadata": {},
   "source": [
    "## Logical Operators\n",
    "\n",
    "Logical Operators are and, or ,not operators "
   ]
  },
  {
   "cell_type": "code",
   "execution_count": 25,
   "id": "c65335fc",
   "metadata": {},
   "outputs": [
    {
     "name": "stdout",
     "output_type": "stream",
     "text": [
      "False\n",
      "True\n"
     ]
    }
   ],
   "source": [
    "a, b = True , False\n",
    "\n",
    "print(a and b) # print a and b\n",
    "\n",
    "print(a  or b) #print a or b\n"
   ]
  },
  {
   "cell_type": "markdown",
   "id": "fff72f58",
   "metadata": {},
   "source": [
    "## Bitwise Operators\n",
    "\n",
    "Bitwise operators act on operands as they were string of binary digits . It operates bit by bit\n",
    "\n",
    "    &, |, ~ , ^ , >> ,<< are bitwise operators"
   ]
  },
  {
   "cell_type": "code",
   "execution_count": 30,
   "id": "fedd4f71",
   "metadata": {},
   "outputs": [
    {
     "name": "stdout",
     "output_type": "stream",
     "text": [
      "0\n",
      "14\n",
      "14\n",
      "0\n",
      "160\n"
     ]
    }
   ],
   "source": [
    "a, b = 10, 4\n",
    "\n",
    "#bitwise AND\n",
    "print(a & b)\n",
    "\n",
    "#bitwise OR\n",
    "print(a | b)\n",
    "\n",
    "#Bitwise XOR\n",
    "print(a^b)\n",
    "\n",
    "#Bitwise rightshift\n",
    "print(a>>b)\n",
    "\n",
    "#print leftshit\n",
    "print(a<< b)"
   ]
  },
  {
   "cell_type": "markdown",
   "id": "db9d9b9d",
   "metadata": {},
   "source": [
    "## Assignment operators\n",
    "\n",
    "Assignment operators are used in Python to assign values to varibles\n",
    "\n",
    "   = ,+= , -=, *=, /=, %= ,//= , **= , &=, \\=, ^=, >>=,<<= are assignment operators "
   ]
  },
  {
   "cell_type": "code",
   "execution_count": 35,
   "id": "92db2ab6",
   "metadata": {},
   "outputs": [
    {
     "name": "stdout",
     "output_type": "stream",
     "text": [
      "20\n",
      "10\n",
      "0.5\n",
      "0.5\n",
      "0.0\n",
      "0.0\n"
     ]
    }
   ],
   "source": [
    "a = 10\n",
    "\n",
    "#addition AND(+=)\n",
    "a += 10   #a = a + 10\n",
    "print(a)\n",
    "\n",
    "#subtract AND(-=)\n",
    "a-= 10  # a = a -10\n",
    "print(a)\n",
    "\n",
    "#Divide AND(/=)\n",
    "a/= 20  # a = a % 20\n",
    "print(a)\n",
    "\n",
    "#Modulus AND (%=)\n",
    "a%= 10\n",
    "print(a)\n",
    "\n",
    "#Floor division (//=)\n",
    "a//=10\n",
    "print(a)\n",
    "\n",
    "#Exponent AND (**=)\n",
    "a**= 10\n",
    "print(a)\n"
   ]
  },
  {
   "cell_type": "markdown",
   "id": "4a2c962a",
   "metadata": {},
   "source": [
    "## Special Operators\n",
    "\n",
    "### Identity Operators\n",
    "\n",
    "**is and is not** are the identity operators in Python\n",
    "\n",
    "They are used to check if two value(or variable) are located on the same part of the memory"
   ]
  },
  {
   "cell_type": "code",
   "execution_count": 36,
   "id": "c792fa8f",
   "metadata": {},
   "outputs": [
    {
     "name": "stdout",
     "output_type": "stream",
     "text": [
      "True\n"
     ]
    }
   ],
   "source": [
    "a = 5\n",
    "b = 5     # 5 is object created once both a and point to same object\n",
    "\n",
    "print(a is b)"
   ]
  },
  {
   "cell_type": "code",
   "execution_count": 37,
   "id": "d4a0e679",
   "metadata": {},
   "outputs": [
    {
     "name": "stdout",
     "output_type": "stream",
     "text": [
      "False\n"
     ]
    }
   ],
   "source": [
    "s1 = \"AAIC\"\n",
    "s2 = \"AAIC\"\n",
    "print(s1 is not s2)"
   ]
  },
  {
   "cell_type": "code",
   "execution_count": 38,
   "id": "c479f919",
   "metadata": {},
   "outputs": [
    {
     "name": "stdout",
     "output_type": "stream",
     "text": [
      "False\n"
     ]
    }
   ],
   "source": [
    "l1 = [1,4,5]\n",
    "l2 = [1,4,5]\n",
    "\n",
    "print(l1 is l2)"
   ]
  },
  {
   "cell_type": "markdown",
   "id": "4e620775",
   "metadata": {},
   "source": [
    "## MemberShip Operators\n",
    "\n",
    "**In and not in** are the membership operators\n",
    "\n",
    "They are used to test whether a value or variable is found in a sequence (string, list , tuple , set and dictionary)\n",
    "\n",
    "\n"
   ]
  },
  {
   "cell_type": "code",
   "execution_count": 39,
   "id": "5e09c1ea",
   "metadata": {},
   "outputs": [
    {
     "name": "stdout",
     "output_type": "stream",
     "text": [
      "True\n"
     ]
    }
   ],
   "source": [
    "lst = [1,2,3,4]\n",
    "\n",
    "print (1 in lst )  #check 1 is present in a given list or not\n",
    "\n"
   ]
  },
  {
   "cell_type": "code",
   "execution_count": 42,
   "id": "d9d66b44",
   "metadata": {},
   "outputs": [
    {
     "name": "stdout",
     "output_type": "stream",
     "text": [
      "True\n"
     ]
    }
   ],
   "source": [
    "d = {1: \"a\",2:\"b\"}  \n",
    "print(2 in d)     # can only check if key is present not value in dict"
   ]
  },
  {
   "cell_type": "code",
   "execution_count": null,
   "id": "2210a16c",
   "metadata": {},
   "outputs": [],
   "source": []
  }
 ],
 "metadata": {
  "kernelspec": {
   "display_name": "Python 3 (ipykernel)",
   "language": "python",
   "name": "python3"
  },
  "language_info": {
   "codemirror_mode": {
    "name": "ipython",
    "version": 3
   },
   "file_extension": ".py",
   "mimetype": "text/x-python",
   "name": "python",
   "nbconvert_exporter": "python",
   "pygments_lexer": "ipython3",
   "version": "3.10.9"
  }
 },
 "nbformat": 4,
 "nbformat_minor": 5
}
