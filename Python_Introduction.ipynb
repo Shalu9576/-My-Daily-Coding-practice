{
 "cells": [
  {
   "cell_type": "markdown",
   "id": "9f487af2",
   "metadata": {},
   "source": [
    "## Python Keywords\n",
    "\n",
    "keywords are reserved wards in python\n",
    "\n",
    "we can't use a keyword as variable name. functions, names or any other identifiers\n",
    "\n",
    "Keywords are case sensitive"
   ]
  },
  {
   "cell_type": "code",
   "execution_count": 1,
   "id": "b6ed5dd5",
   "metadata": {},
   "outputs": [
    {
     "name": "stdout",
     "output_type": "stream",
     "text": [
      "['False', 'None', 'True', 'and', 'as', 'assert', 'async', 'await', 'break', 'class', 'continue', 'def', 'del', 'elif', 'else', 'except', 'finally', 'for', 'from', 'global', 'if', 'import', 'in', 'is', 'lambda', 'nonlocal', 'not', 'or', 'pass', 'raise', 'return', 'try', 'while', 'with', 'yield']\n",
      "\n",
      "Total  nunmber of keywords: 35\n"
     ]
    }
   ],
   "source": [
    "import keyword\n",
    "\n",
    "print(keyword.kwlist)\n",
    "\n",
    "print(\"\\nTotal  nunmber of keywords:\", len(keyword.kwlist))"
   ]
  },
  {
   "cell_type": "markdown",
   "id": "4b1ea67a",
   "metadata": {},
   "source": [
    "## Identifiers\n",
    "\n",
    "Identifiers is the name given to entities like class, functions, variable etc in pythin .It helps differentiating one entity from another.\n",
    "\n",
    "Rules for writing identifiers:\n",
    "1. Identifiers can be a combination of letters in lowercase(a to z) or digits(0 to 9) or an underscore(_).\n",
    "2.  An identifiers cannot start with a digit .1 variable is invalid , but variable1 is perfectly fine.\n",
    "3. Keywords cannot be used as identifiers"
   ]
  },
  {
   "cell_type": "code",
   "execution_count": 7,
   "id": "3f14298b",
   "metadata": {},
   "outputs": [
    {
     "name": "stdout",
     "output_type": "stream",
     "text": [
      "12\n"
     ]
    }
   ],
   "source": [
    "##123_abc = 12\n",
    "##global = 1\n",
    "abc_11 = 12\n",
    "print(abc_11)"
   ]
  },
  {
   "cell_type": "markdown",
   "id": "a550b1c8",
   "metadata": {},
   "source": [
    "We cannot use speical symbols like !,@,#,$,% etc in our identifiers\n"
   ]
  },
  {
   "cell_type": "code",
   "execution_count": 9,
   "id": "b17d2c5c",
   "metadata": {},
   "outputs": [
    {
     "name": "stdout",
     "output_type": "stream",
     "text": [
      "1\n"
     ]
    }
   ],
   "source": [
    "#a@ = 1\n",
    "a = 1\n",
    "print(a)"
   ]
  },
  {
   "cell_type": "markdown",
   "id": "201a6f31",
   "metadata": {},
   "source": [
    "## Python Comments\n",
    "Comments are lines  that exist in computer programs that are ignored by compilers and interpreters.\n",
    "Including comments in program makes code more readable for humans as it provides some information or explanation about what part of a program is doing \n",
    "\n",
    "In general ,it is a good to write comments while you are writing or updating a program as it is easy to forgot your thought process later on, and comments written later may less useful in the long term."
   ]
  },
  {
   "cell_type": "markdown",
   "id": "03cd8e52",
   "metadata": {},
   "source": [
    "#print hello, world to console\n",
    "print(\"Hello, world\")"
   ]
  },
  {
   "cell_type": "markdown",
   "id": "07146471",
   "metadata": {},
   "source": [
    "## Multi Line Comments \n",
    "\n",
    "If you have comments that extend multiple lines , one way of doing it is to use use hash (#) in the beginning of each line.\n"
   ]
  },
  {
   "cell_type": "code",
   "execution_count": 11,
   "id": "3d6cd8da",
   "metadata": {},
   "outputs": [],
   "source": [
    "#This is a long comment\n",
    "# and it extends\n",
    "#multiple lines\n"
   ]
  },
  {
   "cell_type": "markdown",
   "id": "3ff3649d",
   "metadata": {},
   "source": [
    "Another way of doing this is to use triple quotes, either ''' or \"\"\""
   ]
  },
  {
   "cell_type": "code",
   "execution_count": 1,
   "id": "9d5d0ff4",
   "metadata": {},
   "outputs": [
    {
     "data": {
      "text/plain": [
       "'This is also a \\nperfect example of multi-line comments'"
      ]
     },
     "execution_count": 1,
     "metadata": {},
     "output_type": "execute_result"
    }
   ],
   "source": [
    "\"\"\"This is also a \n",
    "perfect example of multi-line comments\"\"\""
   ]
  },
  {
   "cell_type": "code",
   "execution_count": null,
   "id": "7533f190",
   "metadata": {},
   "outputs": [],
   "source": []
  }
 ],
 "metadata": {
  "kernelspec": {
   "display_name": "Python 3 (ipykernel)",
   "language": "python",
   "name": "python3"
  },
  "language_info": {
   "codemirror_mode": {
    "name": "ipython",
    "version": 3
   },
   "file_extension": ".py",
   "mimetype": "text/x-python",
   "name": "python",
   "nbconvert_exporter": "python",
   "pygments_lexer": "ipython3",
   "version": "3.10.9"
  }
 },
 "nbformat": 4,
 "nbformat_minor": 5
}
